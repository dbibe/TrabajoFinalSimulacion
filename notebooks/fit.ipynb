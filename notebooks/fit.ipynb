{
 "cells": [
  {
   "metadata": {},
   "cell_type": "markdown",
   "source": "## Fit PDF\n",
   "id": "64b5e60b44dad89c"
  },
  {
   "metadata": {
    "ExecuteTime": {
     "end_time": "2024-09-30T18:06:03.262570Z",
     "start_time": "2024-09-30T18:05:54.054495Z"
    }
   },
   "cell_type": "code",
   "source": [
    "# load csv\n",
    "import pandas as pd\n",
    "\n",
    "df = pd.read_excel('../data/dataset.xlsx')"
   ],
   "id": "fb14a4cdf8994a74",
   "outputs": [],
   "execution_count": 1
  },
  {
   "metadata": {
    "ExecuteTime": {
     "end_time": "2024-09-30T04:44:29.397216Z",
     "start_time": "2024-09-30T04:44:29.366216Z"
    }
   },
   "cell_type": "code",
   "source": "df.count()",
   "id": "e43fe61b12db5431",
   "outputs": [
    {
     "data": {
      "text/plain": [
       "Summary                                                           14210\n",
       "Issue key                                                         14210\n",
       "Issue id                                                          14210\n",
       "Issue Type                                                        14210\n",
       "Status                                                            14210\n",
       "Project key                                                       14210\n",
       "Project name                                                      14210\n",
       "Project type                                                      14210\n",
       "Project lead                                                      14210\n",
       "Project description                                                   0\n",
       "Project url                                                       14210\n",
       "Priority                                                          11662\n",
       "Resolution                                                         6909\n",
       "Assignee                                                            294\n",
       "Reporter                                                          14210\n",
       "Creator                                                           14210\n",
       "Created                                                           14210\n",
       "Updated                                                           14210\n",
       "Last Viewed                                                       14210\n",
       "Resolved                                                           6909\n",
       "Affects Version/s                                                 11564\n",
       "Affects Version/s_1                                                 588\n",
       "Fix Version/s                                                       490\n",
       "Component/s                                                       14210\n",
       "Due Date                                                              0\n",
       "Votes                                                             14210\n",
       "Labels                                                             1960\n",
       "Description                                                       14210\n",
       "ss                                                                14210\n",
       "Custom field (Company)                                            14210\n",
       "Unnamed: 30                                                           0\n",
       "Custom field (Date of First Response)                             10094\n",
       "Custom field (Does fix include system behavior or UI changes?)     5341\n",
       "Custom field (Feedback About)                                     14063\n",
       "Custom field (Feedback Policy)                                     2646\n",
       "Custom field (Last Touched By)                                    14210\n",
       "Custom field (Last Update On)                                         0\n",
       "Custom field (Last commented)                                     14210\n",
       "Custom field (Last commented by user?)                            14210\n",
       "Custom field (Symptom Severity)                                   11613\n",
       "dtype: int64"
      ]
     },
     "execution_count": 2,
     "metadata": {},
     "output_type": "execute_result"
    }
   ],
   "execution_count": 2
  },
  {
   "metadata": {
    "ExecuteTime": {
     "end_time": "2024-09-30T04:44:29.413218Z",
     "start_time": "2024-09-30T04:44:29.398215Z"
    }
   },
   "cell_type": "code",
   "source": "df.head()",
   "id": "fba18910025184c0",
   "outputs": [
    {
     "data": {
      "text/plain": [
       "                                             Summary         Issue key  \\\n",
       "0  Unable to start SourceTree after updating from...  SRCTREEWIN-13997   \n",
       "1  Unable to start SourceTree after updating from...  SRCTREEWIN-13997   \n",
       "2  Unable to start SourceTree after updating from...  SRCTREEWIN-13997   \n",
       "3  Unable to start SourceTree after updating from...  SRCTREEWIN-13997   \n",
       "4  Unable to start SourceTree after updating from...  SRCTREEWIN-13997   \n",
       "\n",
       "   Issue id Issue Type              Status Project key  \\\n",
       "0   1929802        Bug  Short Term Backlog  SRCTREEWIN   \n",
       "1   1929802        Bug  Short Term Backlog  SRCTREEWIN   \n",
       "2   1929802        Bug  Short Term Backlog  SRCTREEWIN   \n",
       "3   1929802        Bug  Short Term Backlog  SRCTREEWIN   \n",
       "4   1929802        Bug  Short Term Backlog  SRCTREEWIN   \n",
       "\n",
       "             Project name Project type Project lead  Project description  ...  \\\n",
       "0  Sourcetree for Windows     software       rgomis                  NaN  ...   \n",
       "1  Sourcetree for Windows     software       rgomis                  NaN  ...   \n",
       "2  Sourcetree for Windows     software       rgomis                  NaN  ...   \n",
       "3  Sourcetree for Windows     software       rgomis                  NaN  ...   \n",
       "4  Sourcetree for Windows     software       rgomis                  NaN  ...   \n",
       "\n",
       "  Unnamed: 30 Custom field (Date of First Response)  \\\n",
       "0         NaN               2023-05-25 06:00:37.226   \n",
       "1         NaN               2023-05-25 06:00:37.226   \n",
       "2         NaN               2023-05-25 06:00:37.226   \n",
       "3         NaN               2023-05-25 06:00:37.226   \n",
       "4         NaN               2023-05-25 06:00:37.226   \n",
       "\n",
       "  Custom field (Does fix include system behavior or UI changes?)  \\\n",
       "0                                                 No               \n",
       "1                                                 No               \n",
       "2                                                 No               \n",
       "3                                                 No               \n",
       "4                                                 No               \n",
       "\n",
       "  Custom field (Feedback About) Custom field (Feedback Policy)  \\\n",
       "0                         Other                            NaN   \n",
       "1                         Other                            NaN   \n",
       "2                         Other                            NaN   \n",
       "3                         Other                            NaN   \n",
       "4                         Other                            NaN   \n",
       "\n",
       "  Custom field (Last Touched By) Custom field (Last Update On)  \\\n",
       "0  698877135425(JIRAUSER5932073)                           NaN   \n",
       "1  698877135425(JIRAUSER5932073)                           NaN   \n",
       "2  698877135425(JIRAUSER5932073)                           NaN   \n",
       "3  698877135425(JIRAUSER5932073)                           NaN   \n",
       "4  698877135425(JIRAUSER5932073)                           NaN   \n",
       "\n",
       "  Custom field (Last commented) Custom field (Last commented by user?)  \\\n",
       "0                        518400                                   True   \n",
       "1                        518400                                   True   \n",
       "2                        518400                                   True   \n",
       "3                        518400                                   True   \n",
       "4                        518400                                   True   \n",
       "\n",
       "  Custom field (Symptom Severity)  \n",
       "0           Severity 1 - Critical  \n",
       "1           Severity 1 - Critical  \n",
       "2           Severity 1 - Critical  \n",
       "3           Severity 1 - Critical  \n",
       "4           Severity 1 - Critical  \n",
       "\n",
       "[5 rows x 40 columns]"
      ],
      "text/html": [
       "<div>\n",
       "<style scoped>\n",
       "    .dataframe tbody tr th:only-of-type {\n",
       "        vertical-align: middle;\n",
       "    }\n",
       "\n",
       "    .dataframe tbody tr th {\n",
       "        vertical-align: top;\n",
       "    }\n",
       "\n",
       "    .dataframe thead th {\n",
       "        text-align: right;\n",
       "    }\n",
       "</style>\n",
       "<table border=\"1\" class=\"dataframe\">\n",
       "  <thead>\n",
       "    <tr style=\"text-align: right;\">\n",
       "      <th></th>\n",
       "      <th>Summary</th>\n",
       "      <th>Issue key</th>\n",
       "      <th>Issue id</th>\n",
       "      <th>Issue Type</th>\n",
       "      <th>Status</th>\n",
       "      <th>Project key</th>\n",
       "      <th>Project name</th>\n",
       "      <th>Project type</th>\n",
       "      <th>Project lead</th>\n",
       "      <th>Project description</th>\n",
       "      <th>...</th>\n",
       "      <th>Unnamed: 30</th>\n",
       "      <th>Custom field (Date of First Response)</th>\n",
       "      <th>Custom field (Does fix include system behavior or UI changes?)</th>\n",
       "      <th>Custom field (Feedback About)</th>\n",
       "      <th>Custom field (Feedback Policy)</th>\n",
       "      <th>Custom field (Last Touched By)</th>\n",
       "      <th>Custom field (Last Update On)</th>\n",
       "      <th>Custom field (Last commented)</th>\n",
       "      <th>Custom field (Last commented by user?)</th>\n",
       "      <th>Custom field (Symptom Severity)</th>\n",
       "    </tr>\n",
       "  </thead>\n",
       "  <tbody>\n",
       "    <tr>\n",
       "      <th>0</th>\n",
       "      <td>Unable to start SourceTree after updating from...</td>\n",
       "      <td>SRCTREEWIN-13997</td>\n",
       "      <td>1929802</td>\n",
       "      <td>Bug</td>\n",
       "      <td>Short Term Backlog</td>\n",
       "      <td>SRCTREEWIN</td>\n",
       "      <td>Sourcetree for Windows</td>\n",
       "      <td>software</td>\n",
       "      <td>rgomis</td>\n",
       "      <td>NaN</td>\n",
       "      <td>...</td>\n",
       "      <td>NaN</td>\n",
       "      <td>2023-05-25 06:00:37.226</td>\n",
       "      <td>No</td>\n",
       "      <td>Other</td>\n",
       "      <td>NaN</td>\n",
       "      <td>698877135425(JIRAUSER5932073)</td>\n",
       "      <td>NaN</td>\n",
       "      <td>518400</td>\n",
       "      <td>True</td>\n",
       "      <td>Severity 1 - Critical</td>\n",
       "    </tr>\n",
       "    <tr>\n",
       "      <th>1</th>\n",
       "      <td>Unable to start SourceTree after updating from...</td>\n",
       "      <td>SRCTREEWIN-13997</td>\n",
       "      <td>1929802</td>\n",
       "      <td>Bug</td>\n",
       "      <td>Short Term Backlog</td>\n",
       "      <td>SRCTREEWIN</td>\n",
       "      <td>Sourcetree for Windows</td>\n",
       "      <td>software</td>\n",
       "      <td>rgomis</td>\n",
       "      <td>NaN</td>\n",
       "      <td>...</td>\n",
       "      <td>NaN</td>\n",
       "      <td>2023-05-25 06:00:37.226</td>\n",
       "      <td>No</td>\n",
       "      <td>Other</td>\n",
       "      <td>NaN</td>\n",
       "      <td>698877135425(JIRAUSER5932073)</td>\n",
       "      <td>NaN</td>\n",
       "      <td>518400</td>\n",
       "      <td>True</td>\n",
       "      <td>Severity 1 - Critical</td>\n",
       "    </tr>\n",
       "    <tr>\n",
       "      <th>2</th>\n",
       "      <td>Unable to start SourceTree after updating from...</td>\n",
       "      <td>SRCTREEWIN-13997</td>\n",
       "      <td>1929802</td>\n",
       "      <td>Bug</td>\n",
       "      <td>Short Term Backlog</td>\n",
       "      <td>SRCTREEWIN</td>\n",
       "      <td>Sourcetree for Windows</td>\n",
       "      <td>software</td>\n",
       "      <td>rgomis</td>\n",
       "      <td>NaN</td>\n",
       "      <td>...</td>\n",
       "      <td>NaN</td>\n",
       "      <td>2023-05-25 06:00:37.226</td>\n",
       "      <td>No</td>\n",
       "      <td>Other</td>\n",
       "      <td>NaN</td>\n",
       "      <td>698877135425(JIRAUSER5932073)</td>\n",
       "      <td>NaN</td>\n",
       "      <td>518400</td>\n",
       "      <td>True</td>\n",
       "      <td>Severity 1 - Critical</td>\n",
       "    </tr>\n",
       "    <tr>\n",
       "      <th>3</th>\n",
       "      <td>Unable to start SourceTree after updating from...</td>\n",
       "      <td>SRCTREEWIN-13997</td>\n",
       "      <td>1929802</td>\n",
       "      <td>Bug</td>\n",
       "      <td>Short Term Backlog</td>\n",
       "      <td>SRCTREEWIN</td>\n",
       "      <td>Sourcetree for Windows</td>\n",
       "      <td>software</td>\n",
       "      <td>rgomis</td>\n",
       "      <td>NaN</td>\n",
       "      <td>...</td>\n",
       "      <td>NaN</td>\n",
       "      <td>2023-05-25 06:00:37.226</td>\n",
       "      <td>No</td>\n",
       "      <td>Other</td>\n",
       "      <td>NaN</td>\n",
       "      <td>698877135425(JIRAUSER5932073)</td>\n",
       "      <td>NaN</td>\n",
       "      <td>518400</td>\n",
       "      <td>True</td>\n",
       "      <td>Severity 1 - Critical</td>\n",
       "    </tr>\n",
       "    <tr>\n",
       "      <th>4</th>\n",
       "      <td>Unable to start SourceTree after updating from...</td>\n",
       "      <td>SRCTREEWIN-13997</td>\n",
       "      <td>1929802</td>\n",
       "      <td>Bug</td>\n",
       "      <td>Short Term Backlog</td>\n",
       "      <td>SRCTREEWIN</td>\n",
       "      <td>Sourcetree for Windows</td>\n",
       "      <td>software</td>\n",
       "      <td>rgomis</td>\n",
       "      <td>NaN</td>\n",
       "      <td>...</td>\n",
       "      <td>NaN</td>\n",
       "      <td>2023-05-25 06:00:37.226</td>\n",
       "      <td>No</td>\n",
       "      <td>Other</td>\n",
       "      <td>NaN</td>\n",
       "      <td>698877135425(JIRAUSER5932073)</td>\n",
       "      <td>NaN</td>\n",
       "      <td>518400</td>\n",
       "      <td>True</td>\n",
       "      <td>Severity 1 - Critical</td>\n",
       "    </tr>\n",
       "  </tbody>\n",
       "</table>\n",
       "<p>5 rows × 40 columns</p>\n",
       "</div>"
      ]
     },
     "execution_count": 3,
     "metadata": {},
     "output_type": "execute_result"
    }
   ],
   "execution_count": 3
  },
  {
   "metadata": {
    "ExecuteTime": {
     "end_time": "2024-09-30T18:06:08.305103Z",
     "start_time": "2024-09-30T18:06:08.264104Z"
    }
   },
   "cell_type": "code",
   "source": [
    "sanitized = df[df['Created'] < df['Updated']]\n",
    "sanitized = sanitized[sanitized['Resolved'].notna()]\n",
    "sanitized = sanitized[sanitized['Created'] < sanitized['Resolved']]\n",
    "print(f\"Before Duplicates: {sanitized['Issue id'].count()}\")\n",
    "# sanitized.drop_duplicates(subset=['Created', 'Resolved'], inplace=True)\n",
    "print(f\"After Duplicates: {sanitized['Issue id'].count()}\")"
   ],
   "id": "c4e958e2f08af2b2",
   "outputs": [
    {
     "name": "stdout",
     "output_type": "stream",
     "text": [
      "Before Duplicates: 6909\n",
      "After Duplicates: 6909\n"
     ]
    }
   ],
   "execution_count": 2
  },
  {
   "metadata": {
    "ExecuteTime": {
     "end_time": "2024-09-30T04:44:29.445216Z",
     "start_time": "2024-09-30T04:44:29.430217Z"
    }
   },
   "cell_type": "code",
   "source": "sanitized['Created'].describe()",
   "id": "8b8352f2e542eff6",
   "outputs": [
    {
     "data": {
      "text/plain": [
       "count                             6909\n",
       "mean     2020-08-15 15:48:23.829787392\n",
       "min                2013-12-16 07:42:00\n",
       "25%                2020-01-13 06:55:00\n",
       "50%                2020-02-02 15:38:00\n",
       "75%                2021-02-22 06:00:00\n",
       "max                2023-02-22 08:43:00\n",
       "Name: Created, dtype: object"
      ]
     },
     "execution_count": 5,
     "metadata": {},
     "output_type": "execute_result"
    }
   ],
   "execution_count": 5
  },
  {
   "metadata": {
    "ExecuteTime": {
     "end_time": "2024-09-30T18:06:12.430103Z",
     "start_time": "2024-09-30T18:06:12.416103Z"
    }
   },
   "cell_type": "code",
   "source": [
    "TEAL = '#34909d'\n",
    "INFO = '#55c0ed'\n",
    "DANGER = '#ba0034'\n",
    "WARNING = '#f8b85e'\n",
    "TEXT = '#35363b'\n",
    "GRAY = '#d9dde3'\n",
    "GRAY_DARKER = '#ced0d6'\n",
    "GRAY_DARKEST = '#6f7082'\n",
    "\n",
    "font = {\n",
    "    'family': 'Lato',\n",
    "    'color': TEXT,\n",
    "    'weight': 'black',\n",
    "}"
   ],
   "id": "207c599ed2e116e3",
   "outputs": [],
   "execution_count": 3
  },
  {
   "metadata": {
    "ExecuteTime": {
     "end_time": "2024-09-30T18:06:26.798546Z",
     "start_time": "2024-09-30T18:06:26.302546Z"
    }
   },
   "cell_type": "code",
   "source": [
    "import matplotlib.pyplot as plt\n",
    "\n",
    "fig = plt.figure(facecolor='none')\n",
    "ax = fig.add_subplot(111)\n",
    "plt.title('Histogram of Created', fontdict=font)\n",
    "plt.xlabel('Date', fontdict=font)\n",
    "plt.hist(sanitized['Created'], color=TEAL)\n",
    "ax.set_facecolor('none')\n",
    "plt.show()"
   ],
   "id": "7a571ac62b2c871b",
   "outputs": [
    {
     "data": {
      "text/plain": [
       "<Figure size 640x480 with 1 Axes>"
      ],
      "image/png": "[encoded data removed]"
     },
     "metadata": {
      "needs_background": "light"
     },
     "output_type": "display_data"
    }
   ],
   "execution_count": 4
  },
  {
   "metadata": {
    "ExecuteTime": {
     "end_time": "2024-09-30T18:06:29.574545Z",
     "start_time": "2024-09-30T18:06:29.512545Z"
    }
   },
   "cell_type": "code",
   "source": [
    "from scipy.stats import zscore\n",
    "\n",
    "sanitized['diff'] = (sanitized['Created'] - sanitized['Created'].min()).dt.days\n",
    "sanitized['zscore'] = zscore(sanitized['diff'])\n",
    "sanitized = sanitized[abs(sanitized['zscore']) < 3]\n",
    "\n",
    "sanitized.describe()"
   ],
   "id": "1655c0fde775ddb3",
   "outputs": [
    {
     "data": {
      "text/plain": [
       "           Issue id  Project description              Created  \\\n",
       "count  6.860000e+03                  0.0                 6860   \n",
       "mean   1.588660e+06                  NaN  2020-09-02 01:07:18   \n",
       "min    1.185767e+06                  NaN  2019-06-06 10:50:00   \n",
       "25%    1.467035e+06                  NaN  2020-01-13 07:31:00   \n",
       "50%    1.478978e+06                  NaN  2020-02-03 13:21:00   \n",
       "75%    1.720497e+06                  NaN  2021-02-22 12:31:30   \n",
       "max    1.918662e+06                  NaN  2023-02-22 08:43:00   \n",
       "std    1.667076e+05                  NaN                  NaN   \n",
       "\n",
       "                             Updated                    Last Viewed  \\\n",
       "count                           6860                           6860   \n",
       "mean   2021-06-03 04:16:09.857142528  2023-05-31 08:15:00.043731712   \n",
       "min              2020-10-30 11:00:00            2023-05-31 07:54:00   \n",
       "25%              2020-11-10 15:31:15            2023-05-31 08:04:00   \n",
       "50%              2021-01-22 10:31:00            2023-05-31 08:15:00   \n",
       "75%              2021-06-28 00:44:00            2023-05-31 08:26:00   \n",
       "max              2023-05-30 07:44:00            2023-05-31 08:36:00   \n",
       "std                              NaN                            NaN   \n",
       "\n",
       "                            Resolved  Fix Version/s  Due Date        Votes  \\\n",
       "count                           6860     490.000000       0.0  6860.000000   \n",
       "mean   2021-05-18 05:14:38.571428608    1574.000000       NaN    12.385714   \n",
       "min              2020-10-30 11:00:00     348.000000       NaN     1.000000   \n",
       "25%              2020-11-10 15:17:00     348.000000       NaN     1.000000   \n",
       "50%              2021-01-15 10:49:30     348.500000       NaN     3.000000   \n",
       "75%              2021-06-17 10:19:00    3413.000000       NaN     7.000000   \n",
       "max              2023-05-29 07:29:00    3413.000000       NaN   513.000000   \n",
       "std                              NaN    1502.867462       NaN    51.742895   \n",
       "\n",
       "                ss  Unnamed: 30 Custom field (Date of First Response)  \\\n",
       "count  6860.000000          0.0                                  6713   \n",
       "mean     55.642857          NaN         2020-11-20 19:52:41.316948992   \n",
       "min       0.000000          NaN            2019-07-12 18:16:19.642000   \n",
       "25%      20.000000          NaN         2020-01-17 20:50:09.396999936   \n",
       "50%      30.000000          NaN         2020-11-17 10:58:31.337999872   \n",
       "75%      60.000000          NaN            2021-03-04 19:37:46.632000   \n",
       "max     850.000000          NaN            2023-03-07 08:55:45.792000   \n",
       "std      93.297519          NaN                                   NaN   \n",
       "\n",
       "       Custom field (Last Update On)  Custom field (Last commented)  \\\n",
       "count                            0.0                   6.860000e+03   \n",
       "mean                             NaN                   6.470044e+07   \n",
       "min                              NaN                   1.728000e+05   \n",
       "25%                              NaN                   6.151680e+07   \n",
       "50%                              NaN                   7.473600e+07   \n",
       "75%                              NaN                   8.043840e+07   \n",
       "max                              NaN                   1.148256e+08   \n",
       "std                              NaN                   2.625376e+07   \n",
       "\n",
       "              diff       zscore  \n",
       "count  6860.000000  6860.000000  \n",
       "mean   2451.335714     0.043357  \n",
       "min    1998.000000    -1.087219  \n",
       "25%    2218.750000    -0.536689  \n",
       "50%    2240.000000    -0.483694  \n",
       "75%    2624.500000     0.475213  \n",
       "max    3355.000000     2.297010  \n",
       "std     345.443923     0.861504  "
      ],
      "text/html": [
       "<div>\n",
       "<style scoped>\n",
       "    .dataframe tbody tr th:only-of-type {\n",
       "        vertical-align: middle;\n",
       "    }\n",
       "\n",
       "    .dataframe tbody tr th {\n",
       "        vertical-align: top;\n",
       "    }\n",
       "\n",
       "    .dataframe thead th {\n",
       "        text-align: right;\n",
       "    }\n",
       "</style>\n",
       "<table border=\"1\" class=\"dataframe\">\n",
       "  <thead>\n",
       "    <tr style=\"text-align: right;\">\n",
       "      <th></th>\n",
       "      <th>Issue id</th>\n",
       "      <th>Project description</th>\n",
       "      <th>Created</th>\n",
       "      <th>Updated</th>\n",
       "      <th>Last Viewed</th>\n",
       "      <th>Resolved</th>\n",
       "      <th>Fix Version/s</th>\n",
       "      <th>Due Date</th>\n",
       "      <th>Votes</th>\n",
       "      <th>ss</th>\n",
       "      <th>Unnamed: 30</th>\n",
       "      <th>Custom field (Date of First Response)</th>\n",
       "      <th>Custom field (Last Update On)</th>\n",
       "      <th>Custom field (Last commented)</th>\n",
       "      <th>diff</th>\n",
       "      <th>zscore</th>\n",
       "    </tr>\n",
       "  </thead>\n",
       "  <tbody>\n",
       "    <tr>\n",
       "      <th>count</th>\n",
       "      <td>6.860000e+03</td>\n",
       "      <td>0.0</td>\n",
       "      <td>6860</td>\n",
       "      <td>6860</td>\n",
       "      <td>6860</td>\n",
       "      <td>6860</td>\n",
       "      <td>490.000000</td>\n",
       "      <td>0.0</td>\n",
       "      <td>6860.000000</td>\n",
       "      <td>6860.000000</td>\n",
       "      <td>0.0</td>\n",
       "      <td>6713</td>\n",
       "      <td>0.0</td>\n",
       "      <td>6.860000e+03</td>\n",
       "      <td>6860.000000</td>\n",
       "      <td>6860.000000</td>\n",
       "    </tr>\n",
       "    <tr>\n",
       "      <th>mean</th>\n",
       "      <td>1.588660e+06</td>\n",
       "      <td>NaN</td>\n",
       "      <td>2020-09-02 01:07:18</td>\n",
       "      <td>2021-06-03 04:16:09.857142528</td>\n",
       "      <td>2023-05-31 08:15:00.043731712</td>\n",
       "      <td>2021-05-18 05:14:38.571428608</td>\n",
       "      <td>1574.000000</td>\n",
       "      <td>NaN</td>\n",
       "      <td>12.385714</td>\n",
       "      <td>55.642857</td>\n",
       "      <td>NaN</td>\n",
       "      <td>2020-11-20 19:52:41.316948992</td>\n",
       "      <td>NaN</td>\n",
       "      <td>6.470044e+07</td>\n",
       "      <td>2451.335714</td>\n",
       "      <td>0.043357</td>\n",
       "    </tr>\n",
       "    <tr>\n",
       "      <th>min</th>\n",
       "      <td>1.185767e+06</td>\n",
       "      <td>NaN</td>\n",
       "      <td>2019-06-06 10:50:00</td>\n",
       "      <td>2020-10-30 11:00:00</td>\n",
       "      <td>2023-05-31 07:54:00</td>\n",
       "      <td>2020-10-30 11:00:00</td>\n",
       "      <td>348.000000</td>\n",
       "      <td>NaN</td>\n",
       "      <td>1.000000</td>\n",
       "      <td>0.000000</td>\n",
       "      <td>NaN</td>\n",
       "      <td>2019-07-12 18:16:19.642000</td>\n",
       "      <td>NaN</td>\n",
       "      <td>1.728000e+05</td>\n",
       "      <td>1998.000000</td>\n",
       "      <td>-1.087219</td>\n",
       "    </tr>\n",
       "    <tr>\n",
       "      <th>25%</th>\n",
       "      <td>1.467035e+06</td>\n",
       "      <td>NaN</td>\n",
       "      <td>2020-01-13 07:31:00</td>\n",
       "      <td>2020-11-10 15:31:15</td>\n",
       "      <td>2023-05-31 08:04:00</td>\n",
       "      <td>2020-11-10 15:17:00</td>\n",
       "      <td>348.000000</td>\n",
       "      <td>NaN</td>\n",
       "      <td>1.000000</td>\n",
       "      <td>20.000000</td>\n",
       "      <td>NaN</td>\n",
       "      <td>2020-01-17 20:50:09.396999936</td>\n",
       "      <td>NaN</td>\n",
       "      <td>6.151680e+07</td>\n",
       "      <td>2218.750000</td>\n",
       "      <td>-0.536689</td>\n",
       "    </tr>\n",
       "    <tr>\n",
       "      <th>50%</th>\n",
       "      <td>1.478978e+06</td>\n",
       "      <td>NaN</td>\n",
       "      <td>2020-02-03 13:21:00</td>\n",
       "      <td>2021-01-22 10:31:00</td>\n",
       "      <td>2023-05-31 08:15:00</td>\n",
       "      <td>2021-01-15 10:49:30</td>\n",
       "      <td>348.500000</td>\n",
       "      <td>NaN</td>\n",
       "      <td>3.000000</td>\n",
       "      <td>30.000000</td>\n",
       "      <td>NaN</td>\n",
       "      <td>2020-11-17 10:58:31.337999872</td>\n",
       "      <td>NaN</td>\n",
       "      <td>7.473600e+07</td>\n",
       "      <td>2240.000000</td>\n",
       "      <td>-0.483694</td>\n",
       "    </tr>\n",
       "    <tr>\n",
       "      <th>75%</th>\n",
       "      <td>1.720497e+06</td>\n",
       "      <td>NaN</td>\n",
       "      <td>2021-02-22 12:31:30</td>\n",
       "      <td>2021-06-28 00:44:00</td>\n",
       "      <td>2023-05-31 08:26:00</td>\n",
       "      <td>2021-06-17 10:19:00</td>\n",
       "      <td>3413.000000</td>\n",
       "      <td>NaN</td>\n",
       "      <td>7.000000</td>\n",
       "      <td>60.000000</td>\n",
       "      <td>NaN</td>\n",
       "      <td>2021-03-04 19:37:46.632000</td>\n",
       "      <td>NaN</td>\n",
       "      <td>8.043840e+07</td>\n",
       "      <td>2624.500000</td>\n",
       "      <td>0.475213</td>\n",
       "    </tr>\n",
       "    <tr>\n",
       "      <th>max</th>\n",
       "      <td>1.918662e+06</td>\n",
       "      <td>NaN</td>\n",
       "      <td>2023-02-22 08:43:00</td>\n",
       "      <td>2023-05-30 07:44:00</td>\n",
       "      <td>2023-05-31 08:36:00</td>\n",
       "      <td>2023-05-29 07:29:00</td>\n",
       "      <td>3413.000000</td>\n",
       "      <td>NaN</td>\n",
       "      <td>513.000000</td>\n",
       "      <td>850.000000</td>\n",
       "      <td>NaN</td>\n",
       "      <td>2023-03-07 08:55:45.792000</td>\n",
       "      <td>NaN</td>\n",
       "      <td>1.148256e+08</td>\n",
       "      <td>3355.000000</td>\n",
       "      <td>2.297010</td>\n",
       "    </tr>\n",
       "    <tr>\n",
       "      <th>std</th>\n",
       "      <td>1.667076e+05</td>\n",
       "      <td>NaN</td>\n",
       "      <td>NaN</td>\n",
       "      <td>NaN</td>\n",
       "      <td>NaN</td>\n",
       "      <td>NaN</td>\n",
       "      <td>1502.867462</td>\n",
       "      <td>NaN</td>\n",
       "      <td>51.742895</td>\n",
       "      <td>93.297519</td>\n",
       "      <td>NaN</td>\n",
       "      <td>NaN</td>\n",
       "      <td>NaN</td>\n",
       "      <td>2.625376e+07</td>\n",
       "      <td>345.443923</td>\n",
       "      <td>0.861504</td>\n",
       "    </tr>\n",
       "  </tbody>\n",
       "</table>\n",
       "</div>"
      ]
     },
     "execution_count": 5,
     "metadata": {},
     "output_type": "execute_result"
    }
   ],
   "execution_count": 5
  },
  {
   "metadata": {
    "ExecuteTime": {
     "end_time": "2024-09-30T18:06:35.716590Z",
     "start_time": "2024-09-30T18:06:35.494589Z"
    }
   },
   "cell_type": "code",
   "source": [
    "fig = plt.figure(facecolor='none')\n",
    "ax = fig.add_subplot(111)\n",
    "plt.title('Histogram of Created', fontdict=font)\n",
    "plt.xlabel('Date', fontdict=font)\n",
    "plt.hist(sanitized['Created'], color=INFO)\n",
    "ax.set_facecolor('none')\n",
    "plt.show()"
   ],
   "id": "7394d049c6f5b1aa",
   "outputs": [
    {
     "data": {
      "text/plain": [
       "<Figure size 640x480 with 1 Axes>"
      ],
      "image/png": "[encoded data removed]"
     },
     "metadata": {
      "needs_background": "light"
     },
     "output_type": "display_data"
    }
   ],
   "execution_count": 6
  },
  {
   "metadata": {
    "ExecuteTime": {
     "end_time": "2024-09-30T18:06:39.851740Z",
     "start_time": "2024-09-30T18:06:39.809739Z"
    }
   },
   "cell_type": "code",
   "source": [
    "sanitized['service_time'] = sanitized['Resolved'] - sanitized['Created']\n",
    "sanitized.describe()"
   ],
   "id": "3e7f6a30825adfc2",
   "outputs": [
    {
     "data": {
      "text/plain": [
       "           Issue id  Project description              Created  \\\n",
       "count  6.860000e+03                  0.0                 6860   \n",
       "mean   1.588660e+06                  NaN  2020-09-02 01:07:18   \n",
       "min    1.185767e+06                  NaN  2019-06-06 10:50:00   \n",
       "25%    1.467035e+06                  NaN  2020-01-13 07:31:00   \n",
       "50%    1.478978e+06                  NaN  2020-02-03 13:21:00   \n",
       "75%    1.720497e+06                  NaN  2021-02-22 12:31:30   \n",
       "max    1.918662e+06                  NaN  2023-02-22 08:43:00   \n",
       "std    1.667076e+05                  NaN                  NaN   \n",
       "\n",
       "                             Updated                    Last Viewed  \\\n",
       "count                           6860                           6860   \n",
       "mean   2021-06-03 04:16:09.857142528  2023-05-31 08:15:00.043731712   \n",
       "min              2020-10-30 11:00:00            2023-05-31 07:54:00   \n",
       "25%              2020-11-10 15:31:15            2023-05-31 08:04:00   \n",
       "50%              2021-01-22 10:31:00            2023-05-31 08:15:00   \n",
       "75%              2021-06-28 00:44:00            2023-05-31 08:26:00   \n",
       "max              2023-05-30 07:44:00            2023-05-31 08:36:00   \n",
       "std                              NaN                            NaN   \n",
       "\n",
       "                            Resolved  Fix Version/s  Due Date        Votes  \\\n",
       "count                           6860     490.000000       0.0  6860.000000   \n",
       "mean   2021-05-18 05:14:38.571428608    1574.000000       NaN    12.385714   \n",
       "min              2020-10-30 11:00:00     348.000000       NaN     1.000000   \n",
       "25%              2020-11-10 15:17:00     348.000000       NaN     1.000000   \n",
       "50%              2021-01-15 10:49:30     348.500000       NaN     3.000000   \n",
       "75%              2021-06-17 10:19:00    3413.000000       NaN     7.000000   \n",
       "max              2023-05-29 07:29:00    3413.000000       NaN   513.000000   \n",
       "std                              NaN    1502.867462       NaN    51.742895   \n",
       "\n",
       "                ss  Unnamed: 30 Custom field (Date of First Response)  \\\n",
       "count  6860.000000          0.0                                  6713   \n",
       "mean     55.642857          NaN         2020-11-20 19:52:41.316948992   \n",
       "min       0.000000          NaN            2019-07-12 18:16:19.642000   \n",
       "25%      20.000000          NaN         2020-01-17 20:50:09.396999936   \n",
       "50%      30.000000          NaN         2020-11-17 10:58:31.337999872   \n",
       "75%      60.000000          NaN            2021-03-04 19:37:46.632000   \n",
       "max     850.000000          NaN            2023-03-07 08:55:45.792000   \n",
       "std      93.297519          NaN                                   NaN   \n",
       "\n",
       "       Custom field (Last Update On)  Custom field (Last commented)  \\\n",
       "count                            0.0                   6.860000e+03   \n",
       "mean                             NaN                   6.470044e+07   \n",
       "min                              NaN                   1.728000e+05   \n",
       "25%                              NaN                   6.151680e+07   \n",
       "50%                              NaN                   7.473600e+07   \n",
       "75%                              NaN                   8.043840e+07   \n",
       "max                              NaN                   1.148256e+08   \n",
       "std                              NaN                   2.625376e+07   \n",
       "\n",
       "              diff       zscore                 service_time  \n",
       "count  6860.000000  6860.000000                         6860  \n",
       "mean   2451.335714     0.043357  258 days 04:07:20.571428572  \n",
       "min    1998.000000    -1.087219              0 days 01:03:00  \n",
       "25%    2218.750000    -0.536689            114 days 01:26:15  \n",
       "50%    2240.000000    -0.483694            295 days 12:39:30  \n",
       "75%    2624.500000     0.475213            323 days 04:09:00  \n",
       "max    3355.000000     2.297010           1288 days 14:26:00  \n",
       "std     345.443923     0.861504  179 days 09:43:06.670084756  "
      ],
      "text/html": [
       "<div>\n",
       "<style scoped>\n",
       "    .dataframe tbody tr th:only-of-type {\n",
       "        vertical-align: middle;\n",
       "    }\n",
       "\n",
       "    .dataframe tbody tr th {\n",
       "        vertical-align: top;\n",
       "    }\n",
       "\n",
       "    .dataframe thead th {\n",
       "        text-align: right;\n",
       "    }\n",
       "</style>\n",
       "<table border=\"1\" class=\"dataframe\">\n",
       "  <thead>\n",
       "    <tr style=\"text-align: right;\">\n",
       "      <th></th>\n",
       "      <th>Issue id</th>\n",
       "      <th>Project description</th>\n",
       "      <th>Created</th>\n",
       "      <th>Updated</th>\n",
       "      <th>Last Viewed</th>\n",
       "      <th>Resolved</th>\n",
       "      <th>Fix Version/s</th>\n",
       "      <th>Due Date</th>\n",
       "      <th>Votes</th>\n",
       "      <th>ss</th>\n",
       "      <th>Unnamed: 30</th>\n",
       "      <th>Custom field (Date of First Response)</th>\n",
       "      <th>Custom field (Last Update On)</th>\n",
       "      <th>Custom field (Last commented)</th>\n",
       "      <th>diff</th>\n",
       "      <th>zscore</th>\n",
       "      <th>service_time</th>\n",
       "    </tr>\n",
       "  </thead>\n",
       "  <tbody>\n",
       "    <tr>\n",
       "      <th>count</th>\n",
       "      <td>6.860000e+03</td>\n",
       "      <td>0.0</td>\n",
       "      <td>6860</td>\n",
       "      <td>6860</td>\n",
       "      <td>6860</td>\n",
       "      <td>6860</td>\n",
       "      <td>490.000000</td>\n",
       "      <td>0.0</td>\n",
       "      <td>6860.000000</td>\n",
       "      <td>6860.000000</td>\n",
       "      <td>0.0</td>\n",
       "      <td>6713</td>\n",
       "      <td>0.0</td>\n",
       "      <td>6.860000e+03</td>\n",
       "      <td>6860.000000</td>\n",
       "      <td>6860.000000</td>\n",
       "      <td>6860</td>\n",
       "    </tr>\n",
       "    <tr>\n",
       "      <th>mean</th>\n",
       "      <td>1.588660e+06</td>\n",
       "      <td>NaN</td>\n",
       "      <td>2020-09-02 01:07:18</td>\n",
       "      <td>2021-06-03 04:16:09.857142528</td>\n",
       "      <td>2023-05-31 08:15:00.043731712</td>\n",
       "      <td>2021-05-18 05:14:38.571428608</td>\n",
       "      <td>1574.000000</td>\n",
       "      <td>NaN</td>\n",
       "      <td>12.385714</td>\n",
       "      <td>55.642857</td>\n",
       "      <td>NaN</td>\n",
       "      <td>2020-11-20 19:52:41.316948992</td>\n",
       "      <td>NaN</td>\n",
       "      <td>6.470044e+07</td>\n",
       "      <td>2451.335714</td>\n",
       "      <td>0.043357</td>\n",
       "      <td>258 days 04:07:20.571428572</td>\n",
       "    </tr>\n",
       "    <tr>\n",
       "      <th>min</th>\n",
       "      <td>1.185767e+06</td>\n",
       "      <td>NaN</td>\n",
       "      <td>2019-06-06 10:50:00</td>\n",
       "      <td>2020-10-30 11:00:00</td>\n",
       "      <td>2023-05-31 07:54:00</td>\n",
       "      <td>2020-10-30 11:00:00</td>\n",
       "      <td>348.000000</td>\n",
       "      <td>NaN</td>\n",
       "      <td>1.000000</td>\n",
       "      <td>0.000000</td>\n",
       "      <td>NaN</td>\n",
       "      <td>2019-07-12 18:16:19.642000</td>\n",
       "      <td>NaN</td>\n",
       "      <td>1.728000e+05</td>\n",
       "      <td>1998.000000</td>\n",
       "      <td>-1.087219</td>\n",
       "      <td>0 days 01:03:00</td>\n",
       "    </tr>\n",
       "    <tr>\n",
       "      <th>25%</th>\n",
       "      <td>1.467035e+06</td>\n",
       "      <td>NaN</td>\n",
       "      <td>2020-01-13 07:31:00</td>\n",
       "      <td>2020-11-10 15:31:15</td>\n",
       "      <td>2023-05-31 08:04:00</td>\n",
       "      <td>2020-11-10 15:17:00</td>\n",
       "      <td>348.000000</td>\n",
       "      <td>NaN</td>\n",
       "      <td>1.000000</td>\n",
       "      <td>20.000000</td>\n",
       "      <td>NaN</td>\n",
       "      <td>2020-01-17 20:50:09.396999936</td>\n",
       "      <td>NaN</td>\n",
       "      <td>6.151680e+07</td>\n",
       "      <td>2218.750000</td>\n",
       "      <td>-0.536689</td>\n",
       "      <td>114 days 01:26:15</td>\n",
       "    </tr>\n",
       "    <tr>\n",
       "      <th>50%</th>\n",
       "      <td>1.478978e+06</td>\n",
       "      <td>NaN</td>\n",
       "      <td>2020-02-03 13:21:00</td>\n",
       "      <td>2021-01-22 10:31:00</td>\n",
       "      <td>2023-05-31 08:15:00</td>\n",
       "      <td>2021-01-15 10:49:30</td>\n",
       "      <td>348.500000</td>\n",
       "      <td>NaN</td>\n",
       "      <td>3.000000</td>\n",
       "      <td>30.000000</td>\n",
       "      <td>NaN</td>\n",
       "      <td>2020-11-17 10:58:31.337999872</td>\n",
       "      <td>NaN</td>\n",
       "      <td>7.473600e+07</td>\n",
       "      <td>2240.000000</td>\n",
       "      <td>-0.483694</td>\n",
       "      <td>295 days 12:39:30</td>\n",
       "    </tr>\n",
       "    <tr>\n",
       "      <th>75%</th>\n",
       "      <td>1.720497e+06</td>\n",
       "      <td>NaN</td>\n",
       "      <td>2021-02-22 12:31:30</td>\n",
       "      <td>2021-06-28 00:44:00</td>\n",
       "      <td>2023-05-31 08:26:00</td>\n",
       "      <td>2021-06-17 10:19:00</td>\n",
       "      <td>3413.000000</td>\n",
       "      <td>NaN</td>\n",
       "      <td>7.000000</td>\n",
       "      <td>60.000000</td>\n",
       "      <td>NaN</td>\n",
       "      <td>2021-03-04 19:37:46.632000</td>\n",
       "      <td>NaN</td>\n",
       "      <td>8.043840e+07</td>\n",
       "      <td>2624.500000</td>\n",
       "      <td>0.475213</td>\n",
       "      <td>323 days 04:09:00</td>\n",
       "    </tr>\n",
       "    <tr>\n",
       "      <th>max</th>\n",
       "      <td>1.918662e+06</td>\n",
       "      <td>NaN</td>\n",
       "      <td>2023-02-22 08:43:00</td>\n",
       "      <td>2023-05-30 07:44:00</td>\n",
       "      <td>2023-05-31 08:36:00</td>\n",
       "      <td>2023-05-29 07:29:00</td>\n",
       "      <td>3413.000000</td>\n",
       "      <td>NaN</td>\n",
       "      <td>513.000000</td>\n",
       "      <td>850.000000</td>\n",
       "      <td>NaN</td>\n",
       "      <td>2023-03-07 08:55:45.792000</td>\n",
       "      <td>NaN</td>\n",
       "      <td>1.148256e+08</td>\n",
       "      <td>3355.000000</td>\n",
       "      <td>2.297010</td>\n",
       "      <td>1288 days 14:26:00</td>\n",
       "    </tr>\n",
       "    <tr>\n",
       "      <th>std</th>\n",
       "      <td>1.667076e+05</td>\n",
       "      <td>NaN</td>\n",
       "      <td>NaN</td>\n",
       "      <td>NaN</td>\n",
       "      <td>NaN</td>\n",
       "      <td>NaN</td>\n",
       "      <td>1502.867462</td>\n",
       "      <td>NaN</td>\n",
       "      <td>51.742895</td>\n",
       "      <td>93.297519</td>\n",
       "      <td>NaN</td>\n",
       "      <td>NaN</td>\n",
       "      <td>NaN</td>\n",
       "      <td>2.625376e+07</td>\n",
       "      <td>345.443923</td>\n",
       "      <td>0.861504</td>\n",
       "      <td>179 days 09:43:06.670084756</td>\n",
       "    </tr>\n",
       "  </tbody>\n",
       "</table>\n",
       "</div>"
      ]
     },
     "execution_count": 7,
     "metadata": {},
     "output_type": "execute_result"
    }
   ],
   "execution_count": 7
  },
  {
   "metadata": {
    "ExecuteTime": {
     "end_time": "2024-09-30T18:08:37.650381Z",
     "start_time": "2024-09-30T18:08:37.514499Z"
    }
   },
   "cell_type": "code",
   "source": [
    "fig = plt.figure(facecolor='none')\n",
    "ax = fig.add_subplot(111)\n",
    "ax.set_facecolor('none')\n",
    "# Hide grid lines\n",
    "ax.grid(False)\n",
    "\n",
    "plt.title('Histogram of Service Time', fontdict=font)\n",
    "plt.xlabel('Minutes', fontdict=font)\n",
    "plt.hist(sanitized['service_time'].dt.days, color=GRAY_DARKER)\n",
    "plt.show()"
   ],
   "id": "54ce7d396246f3a9",
   "outputs": [
    {
     "data": {
      "text/plain": [
       "<Figure size 640x480 with 1 Axes>"
      ],
      "image/png": "[encoded data removed]"
     },
     "metadata": {
      "needs_background": "light"
     },
     "output_type": "display_data"
    }
   ],
   "execution_count": 11
  },
  {
   "metadata": {
    "ExecuteTime": {
     "end_time": "2024-09-30T05:21:34.327412Z",
     "start_time": "2024-09-30T05:21:34.307249Z"
    }
   },
   "cell_type": "code",
   "source": "sanitized = sanitized[abs(zscore(sanitized['service_time'].dt.days)) < 2.5]",
   "id": "c3eec3b5da6cf27e",
   "outputs": [],
   "execution_count": 55
  },
  {
   "metadata": {
    "ExecuteTime": {
     "end_time": "2024-09-30T05:23:06.947449Z",
     "start_time": "2024-09-30T05:23:06.857449Z"
    }
   },
   "cell_type": "code",
   "source": [
    "fig = plt.figure(facecolor='none')\n",
    "ax = fig.add_subplot(111)\n",
    "ax.set_facecolor('none')\n",
    "plt.title('Histogram of Service Time (Z-score)', fontdict=font)\n",
    "plt.xlabel('Minutes', fontdict=font)\n",
    "plt.hist(sanitized['service_time'].dt.days, color=WARNING)\n",
    "plt.show()"
   ],
   "id": "f192787edd2a0696",
   "outputs": [
    {
     "data": {
      "text/plain": [
       "<Figure size 640x480 with 1 Axes>"
      ],
      "image/png": "[encoded data removed]"
     },
     "metadata": {
      "needs_background": "light"
     },
     "output_type": "display_data"
    }
   ],
   "execution_count": 60
  },
  {
   "metadata": {
    "ExecuteTime": {
     "end_time": "2024-09-30T04:44:30.254215Z",
     "start_time": "2024-09-30T04:44:30.239216Z"
    }
   },
   "cell_type": "code",
   "source": "training_window = pd.DataFrame()",
   "id": "a42442a84dad430f",
   "outputs": [],
   "execution_count": 14
  },
  {
   "metadata": {
    "ExecuteTime": {
     "end_time": "2024-09-30T04:44:30.269215Z",
     "start_time": "2024-09-30T04:44:30.255216Z"
    }
   },
   "cell_type": "code",
   "source": [
    "training_window['Created'] = sanitized['Created']\n",
    "training_window['Resolved'] = sanitized['Resolved']\n",
    "training_window['Priority'] = sanitized['Priority']\n",
    "training_window['Service Time'] = sanitized['service_time']"
   ],
   "id": "3eb09c724b986696",
   "outputs": [],
   "execution_count": 15
  },
  {
   "metadata": {
    "ExecuteTime": {
     "end_time": "2024-09-30T04:44:30.285215Z",
     "start_time": "2024-09-30T04:44:30.270216Z"
    }
   },
   "cell_type": "code",
   "source": [
    "training_window.sort_values(by='Created', inplace=True)\n",
    "training_window['ia'] = training_window['Created'].diff().dt.total_seconds()"
   ],
   "id": "f9a2db53db23e89d",
   "outputs": [],
   "execution_count": 16
  },
  {
   "metadata": {
    "ExecuteTime": {
     "end_time": "2024-09-30T04:44:30.301215Z",
     "start_time": "2024-09-30T04:44:30.286215Z"
    }
   },
   "cell_type": "code",
   "source": "training_window['Created'].describe()",
   "id": "b1f4bff97dd2690e",
   "outputs": [
    {
     "data": {
      "text/plain": [
       "count                             6811\n",
       "mean     2020-09-04 06:01:25.467625728\n",
       "min                2019-06-06 10:50:00\n",
       "25%                2020-01-13 07:43:00\n",
       "50%                2020-02-04 11:04:00\n",
       "75%                2021-02-23 08:06:00\n",
       "max                2023-02-22 08:43:00\n",
       "Name: Created, dtype: object"
      ]
     },
     "execution_count": 17,
     "metadata": {},
     "output_type": "execute_result"
    }
   ],
   "execution_count": 17
  },
  {
   "metadata": {
    "ExecuteTime": {
     "end_time": "2024-09-30T04:44:30.316216Z",
     "start_time": "2024-09-30T04:44:30.302218Z"
    }
   },
   "cell_type": "code",
   "source": [
    "training_window['ia'] = training_window['ia'].fillna(0)\n",
    "training_window['ia'] = training_window['ia'] / 60"
   ],
   "id": "d29da0efdee2c4bf",
   "outputs": [],
   "execution_count": 18
  },
  {
   "metadata": {
    "ExecuteTime": {
     "end_time": "2024-09-30T04:44:30.332214Z",
     "start_time": "2024-09-30T04:44:30.317216Z"
    }
   },
   "cell_type": "code",
   "source": "training_window.head()",
   "id": "8733e7fc9d1a064",
   "outputs": [
    {
     "data": {
      "text/plain": [
       "                  Created            Resolved Priority Service Time   ia\n",
       "14160 2019-06-06 10:50:00 2021-01-15 10:50:00   Medium     589 days  0.0\n",
       "14132 2019-06-06 10:50:00 2021-01-15 10:50:00   Medium     589 days  0.0\n",
       "14131 2019-06-06 10:50:00 2021-01-15 10:50:00   Medium     589 days  0.0\n",
       "14130 2019-06-06 10:50:00 2021-01-15 10:50:00   Medium     589 days  0.0\n",
       "14129 2019-06-06 10:50:00 2021-01-15 10:50:00   Medium     589 days  0.0"
      ],
      "text/html": [
       "<div>\n",
       "<style scoped>\n",
       "    .dataframe tbody tr th:only-of-type {\n",
       "        vertical-align: middle;\n",
       "    }\n",
       "\n",
       "    .dataframe tbody tr th {\n",
       "        vertical-align: top;\n",
       "    }\n",
       "\n",
       "    .dataframe thead th {\n",
       "        text-align: right;\n",
       "    }\n",
       "</style>\n",
       "<table border=\"1\" class=\"dataframe\">\n",
       "  <thead>\n",
       "    <tr style=\"text-align: right;\">\n",
       "      <th></th>\n",
       "      <th>Created</th>\n",
       "      <th>Resolved</th>\n",
       "      <th>Priority</th>\n",
       "      <th>Service Time</th>\n",
       "      <th>ia</th>\n",
       "    </tr>\n",
       "  </thead>\n",
       "  <tbody>\n",
       "    <tr>\n",
       "      <th>14160</th>\n",
       "      <td>2019-06-06 10:50:00</td>\n",
       "      <td>2021-01-15 10:50:00</td>\n",
       "      <td>Medium</td>\n",
       "      <td>589 days</td>\n",
       "      <td>0.0</td>\n",
       "    </tr>\n",
       "    <tr>\n",
       "      <th>14132</th>\n",
       "      <td>2019-06-06 10:50:00</td>\n",
       "      <td>2021-01-15 10:50:00</td>\n",
       "      <td>Medium</td>\n",
       "      <td>589 days</td>\n",
       "      <td>0.0</td>\n",
       "    </tr>\n",
       "    <tr>\n",
       "      <th>14131</th>\n",
       "      <td>2019-06-06 10:50:00</td>\n",
       "      <td>2021-01-15 10:50:00</td>\n",
       "      <td>Medium</td>\n",
       "      <td>589 days</td>\n",
       "      <td>0.0</td>\n",
       "    </tr>\n",
       "    <tr>\n",
       "      <th>14130</th>\n",
       "      <td>2019-06-06 10:50:00</td>\n",
       "      <td>2021-01-15 10:50:00</td>\n",
       "      <td>Medium</td>\n",
       "      <td>589 days</td>\n",
       "      <td>0.0</td>\n",
       "    </tr>\n",
       "    <tr>\n",
       "      <th>14129</th>\n",
       "      <td>2019-06-06 10:50:00</td>\n",
       "      <td>2021-01-15 10:50:00</td>\n",
       "      <td>Medium</td>\n",
       "      <td>589 days</td>\n",
       "      <td>0.0</td>\n",
       "    </tr>\n",
       "  </tbody>\n",
       "</table>\n",
       "</div>"
      ]
     },
     "execution_count": 19,
     "metadata": {},
     "output_type": "execute_result"
    }
   ],
   "execution_count": 19
  },
  {
   "metadata": {
    "ExecuteTime": {
     "end_time": "2024-09-30T04:44:30.457218Z",
     "start_time": "2024-09-30T04:44:30.333218Z"
    }
   },
   "cell_type": "code",
   "source": [
    "ia_outliers = training_window[abs(zscore(training_window['ia'])) < 3]\n",
    "\n",
    "plt.title('Histogram of Time between Arrivals')\n",
    "plt.xlabel('Minutes')\n",
    "plt.plot(ia_outliers['ia'])\n",
    "plt.show()"
   ],
   "id": "242fbfce894a06db",
   "outputs": [
    {
     "data": {
      "text/plain": [
       "<Figure size 640x480 with 1 Axes>"
      ],
      "image/png": "[encoded data removed]"
     },
     "metadata": {},
     "output_type": "display_data"
    }
   ],
   "execution_count": 20
  },
  {
   "metadata": {
    "ExecuteTime": {
     "end_time": "2024-09-30T04:45:06.186661Z",
     "start_time": "2024-09-30T04:44:30.458219Z"
    }
   },
   "cell_type": "code",
   "source": [
    "from fitter import Fitter\n",
    "\n",
    "f = Fitter(ia_outliers['ia'])\n",
    "f.fit()\n",
    "# may take some time since by default, all distributions are tried,\n",
    "# but you call manually provide a smaller set of distributions\n",
    "f.summary()"
   ],
   "id": "654b95ffe2524731",
   "outputs": [
    {
     "data": {
      "text/plain": [
       "              sumsquare_error           aic           bic  kl_div  \\\n",
       "halflogistic         0.000001  27190.178792  27203.821962     inf   \n",
       "genexpon             0.000005  26881.373768  26915.481692     inf   \n",
       "expon                0.000005  27302.647869  27316.291039     inf   \n",
       "truncpareto          0.000005  27306.647139  27333.933478     inf   \n",
       "pareto               0.000005  27304.647317  27325.112071     inf   \n",
       "\n",
       "              ks_statistic  ks_pvalue  \n",
       "halflogistic      0.984511        0.0  \n",
       "genexpon          0.984454        0.0  \n",
       "expon             0.984511        0.0  \n",
       "truncpareto       0.984511        0.0  \n",
       "pareto            0.984511        0.0  "
      ],
      "text/html": [
       "<div>\n",
       "<style scoped>\n",
       "    .dataframe tbody tr th:only-of-type {\n",
       "        vertical-align: middle;\n",
       "    }\n",
       "\n",
       "    .dataframe tbody tr th {\n",
       "        vertical-align: top;\n",
       "    }\n",
       "\n",
       "    .dataframe thead th {\n",
       "        text-align: right;\n",
       "    }\n",
       "</style>\n",
       "<table border=\"1\" class=\"dataframe\">\n",
       "  <thead>\n",
       "    <tr style=\"text-align: right;\">\n",
       "      <th></th>\n",
       "      <th>sumsquare_error</th>\n",
       "      <th>aic</th>\n",
       "      <th>bic</th>\n",
       "      <th>kl_div</th>\n",
       "      <th>ks_statistic</th>\n",
       "      <th>ks_pvalue</th>\n",
       "    </tr>\n",
       "  </thead>\n",
       "  <tbody>\n",
       "    <tr>\n",
       "      <th>halflogistic</th>\n",
       "      <td>0.000001</td>\n",
       "      <td>27190.178792</td>\n",
       "      <td>27203.821962</td>\n",
       "      <td>inf</td>\n",
       "      <td>0.984511</td>\n",
       "      <td>0.0</td>\n",
       "    </tr>\n",
       "    <tr>\n",
       "      <th>genexpon</th>\n",
       "      <td>0.000005</td>\n",
       "      <td>26881.373768</td>\n",
       "      <td>26915.481692</td>\n",
       "      <td>inf</td>\n",
       "      <td>0.984454</td>\n",
       "      <td>0.0</td>\n",
       "    </tr>\n",
       "    <tr>\n",
       "      <th>expon</th>\n",
       "      <td>0.000005</td>\n",
       "      <td>27302.647869</td>\n",
       "      <td>27316.291039</td>\n",
       "      <td>inf</td>\n",
       "      <td>0.984511</td>\n",
       "      <td>0.0</td>\n",
       "    </tr>\n",
       "    <tr>\n",
       "      <th>truncpareto</th>\n",
       "      <td>0.000005</td>\n",
       "      <td>27306.647139</td>\n",
       "      <td>27333.933478</td>\n",
       "      <td>inf</td>\n",
       "      <td>0.984511</td>\n",
       "      <td>0.0</td>\n",
       "    </tr>\n",
       "    <tr>\n",
       "      <th>pareto</th>\n",
       "      <td>0.000005</td>\n",
       "      <td>27304.647317</td>\n",
       "      <td>27325.112071</td>\n",
       "      <td>inf</td>\n",
       "      <td>0.984511</td>\n",
       "      <td>0.0</td>\n",
       "    </tr>\n",
       "  </tbody>\n",
       "</table>\n",
       "</div>"
      ]
     },
     "execution_count": 21,
     "metadata": {},
     "output_type": "execute_result"
    },
    {
     "data": {
      "text/plain": [
       "<Figure size 640x480 with 1 Axes>"
      ],
      "image/png": "[encoded data removed]"
     },
     "metadata": {},
     "output_type": "display_data"
    }
   ],
   "execution_count": 21
  },
  {
   "metadata": {
    "ExecuteTime": {
     "end_time": "2024-09-30T04:45:06.202660Z",
     "start_time": "2024-09-30T04:45:06.187661Z"
    }
   },
   "cell_type": "code",
   "source": [
    "best_params_ia = best_params = {'halflogistic': {'loc': 0.0, 'scale': 47.291173845125044}}\n",
    "print(best_params_ia)"
   ],
   "id": "271a47b29f65b38f",
   "outputs": [
    {
     "name": "stdout",
     "output_type": "stream",
     "text": [
      "{'halflogistic': {'loc': 0.0, 'scale': 47.291173845125044}}\n"
     ]
    }
   ],
   "execution_count": 22
  },
  {
   "metadata": {
    "ExecuteTime": {
     "end_time": "2024-09-30T04:46:56.163171Z",
     "start_time": "2024-09-30T04:46:56.149173Z"
    }
   },
   "cell_type": "code",
   "source": [
    "from scipy import stats\n",
    "\n",
    "ia = stats.halflogistic.rvs(**best_params_ia.get('halflogistic'), size=4_000)\n",
    "gen = pd.DataFrame()\n",
    "gen['ia'] = ia\n",
    "gen['ia'].describe()"
   ],
   "id": "e1c89beaf9e733fe",
   "outputs": [
    {
     "data": {
      "text/plain": [
       "count    4000.000000\n",
       "mean       66.312527\n",
       "std        55.655828\n",
       "min         0.005704\n",
       "25%        24.581472\n",
       "50%        52.340965\n",
       "75%        92.252360\n",
       "max       444.537699\n",
       "Name: ia, dtype: float64"
      ]
     },
     "execution_count": 33,
     "metadata": {},
     "output_type": "execute_result"
    }
   ],
   "execution_count": 33
  },
  {
   "metadata": {
    "ExecuteTime": {
     "end_time": "2024-09-30T05:20:12.699605Z",
     "start_time": "2024-09-30T05:20:11.813609Z"
    }
   },
   "cell_type": "code",
   "source": [
    "plt.title('Histogram of Time Between Arrivals')\n",
    "plt.xlabel('Minutes')\n",
    "plt.xlim(0, 250)\n",
    "plt.ylim(0, 35)\n",
    "plt.hist(gen['ia'], bins=1_000)\n",
    "plt.show()"
   ],
   "id": "1f368c82da8cb894",
   "outputs": [
    {
     "data": {
      "text/plain": [
       "<Figure size 640x480 with 1 Axes>"
      ],
      "image/png": "[encoded data removed]"
     },
     "metadata": {},
     "output_type": "display_data"
    }
   ],
   "execution_count": 51
  },
  {
   "metadata": {
    "ExecuteTime": {
     "end_time": "2024-09-30T04:49:52.891685Z",
     "start_time": "2024-09-30T04:48:44.186173Z"
    }
   },
   "cell_type": "code",
   "source": [
    "import seaborn as sns\n",
    "from cycler import cycler\n",
    "\n",
    "sns.set_theme()\n",
    "sns.set_style(rc={'axes.facecolor': 'none', 'figure.facecolor': 'none'})\n",
    "plt.rc('lines', linewidth=1.5, linestyle='-')\n",
    "plt.rcParams['axes.prop_cycle'] = cycler(color=[\n",
    "    GRAY_DARKER,\n",
    "    TEXT,\n",
    "    INFO,\n",
    "    TEAL,\n",
    "    DANGER,\n",
    "    WARNING]\n",
    "    # alpha=[1, 1, 1, 1, .7]\n",
    ")\n",
    "f = Fitter(gen['ia'])\n",
    "f.fit()\n",
    "# may take some time since by default, all distributions are tried,\n",
    "# but you call manually provide a smaller set of distributions\n",
    "f.summary()"
   ],
   "id": "9afcf1052d92c975",
   "outputs": [
    {
     "data": {
      "text/plain": [
       "              sumsquare_error          aic          bic  kl_div  ks_statistic  \\\n",
       "halflogistic         0.000014  1603.634992  1616.223091     inf      0.008223   \n",
       "gengamma             0.000015  1638.450068  1663.626266     inf      0.011016   \n",
       "exponweib            0.000015  1637.757904  1662.934102     inf      0.013901   \n",
       "weibull_min          0.000016  1596.972772  1615.854921     inf      0.014828   \n",
       "beta                 0.000016  1651.500491  1676.676690     inf      0.016516   \n",
       "\n",
       "              ks_pvalue  \n",
       "halflogistic   0.947546  \n",
       "gengamma       0.712309  \n",
       "exponweib      0.418379  \n",
       "weibull_min    0.339359  \n",
       "beta           0.222770  "
      ],
      "text/html": [
       "<div>\n",
       "<style scoped>\n",
       "    .dataframe tbody tr th:only-of-type {\n",
       "        vertical-align: middle;\n",
       "    }\n",
       "\n",
       "    .dataframe tbody tr th {\n",
       "        vertical-align: top;\n",
       "    }\n",
       "\n",
       "    .dataframe thead th {\n",
       "        text-align: right;\n",
       "    }\n",
       "</style>\n",
       "<table border=\"1\" class=\"dataframe\">\n",
       "  <thead>\n",
       "    <tr style=\"text-align: right;\">\n",
       "      <th></th>\n",
       "      <th>sumsquare_error</th>\n",
       "      <th>aic</th>\n",
       "      <th>bic</th>\n",
       "      <th>kl_div</th>\n",
       "      <th>ks_statistic</th>\n",
       "      <th>ks_pvalue</th>\n",
       "    </tr>\n",
       "  </thead>\n",
       "  <tbody>\n",
       "    <tr>\n",
       "      <th>halflogistic</th>\n",
       "      <td>0.000014</td>\n",
       "      <td>1603.634992</td>\n",
       "      <td>1616.223091</td>\n",
       "      <td>inf</td>\n",
       "      <td>0.008223</td>\n",
       "      <td>0.947546</td>\n",
       "    </tr>\n",
       "    <tr>\n",
       "      <th>gengamma</th>\n",
       "      <td>0.000015</td>\n",
       "      <td>1638.450068</td>\n",
       "      <td>1663.626266</td>\n",
       "      <td>inf</td>\n",
       "      <td>0.011016</td>\n",
       "      <td>0.712309</td>\n",
       "    </tr>\n",
       "    <tr>\n",
       "      <th>exponweib</th>\n",
       "      <td>0.000015</td>\n",
       "      <td>1637.757904</td>\n",
       "      <td>1662.934102</td>\n",
       "      <td>inf</td>\n",
       "      <td>0.013901</td>\n",
       "      <td>0.418379</td>\n",
       "    </tr>\n",
       "    <tr>\n",
       "      <th>weibull_min</th>\n",
       "      <td>0.000016</td>\n",
       "      <td>1596.972772</td>\n",
       "      <td>1615.854921</td>\n",
       "      <td>inf</td>\n",
       "      <td>0.014828</td>\n",
       "      <td>0.339359</td>\n",
       "    </tr>\n",
       "    <tr>\n",
       "      <th>beta</th>\n",
       "      <td>0.000016</td>\n",
       "      <td>1651.500491</td>\n",
       "      <td>1676.676690</td>\n",
       "      <td>inf</td>\n",
       "      <td>0.016516</td>\n",
       "      <td>0.222770</td>\n",
       "    </tr>\n",
       "  </tbody>\n",
       "</table>\n",
       "</div>"
      ]
     },
     "execution_count": 37,
     "metadata": {},
     "output_type": "execute_result"
    },
    {
     "data": {
      "text/plain": [
       "<Figure size 640x480 with 1 Axes>"
      ],
      "image/png": "[encoded data removed]"
     },
     "metadata": {
      "needs_background": "light"
     },
     "output_type": "display_data"
    }
   ],
   "execution_count": 37
  },
  {
   "metadata": {
    "ExecuteTime": {
     "end_time": "2024-09-30T04:45:39.627171Z",
     "start_time": "2024-09-30T04:45:39.612172Z"
    }
   },
   "cell_type": "code",
   "source": "ia_outliers = training_window[abs(zscore(training_window['Service Time'].dt.days)) < 3]",
   "id": "ff1e70f001e9b6f9",
   "outputs": [],
   "execution_count": 27
  },
  {
   "metadata": {
    "ExecuteTime": {
     "end_time": "2024-09-30T04:45:39.643171Z",
     "start_time": "2024-09-30T04:45:39.628172Z"
    }
   },
   "cell_type": "code",
   "source": "ia_outliers['Priority'].value_counts()",
   "id": "bd26fd6a8481a0eb",
   "outputs": [
    {
     "data": {
      "text/plain": [
       "Priority\n",
       "Low        6076\n",
       "High        294\n",
       "Highest     245\n",
       "Medium       98\n",
       "Name: count, dtype: int64"
      ]
     },
     "execution_count": 28,
     "metadata": {},
     "output_type": "execute_result"
    }
   ],
   "execution_count": 28
  },
  {
   "metadata": {
    "ExecuteTime": {
     "end_time": "2024-09-30T05:11:11.270984Z",
     "start_time": "2024-09-30T05:10:51.794986Z"
    }
   },
   "cell_type": "code",
   "source": [
    "f = Fitter(ia_outliers[ia_outliers['Priority'].isin(['Medium', 'Low'])]['Service Time'].dt.days,\n",
    "           distributions=['gennorm', 'genhyperbolic', 'dgamma', 'dweibull']\n",
    "           )\n",
    "f.fit()\n",
    "# may take some time since by default, all distributions are tried,\n",
    "# but you call manually provide a smaller set of distributions\n",
    "f.summary()"
   ],
   "id": "4fb469572c84f42a",
   "outputs": [
    {
     "data": {
      "text/plain": [
       "               sumsquare_error          aic          bic  kl_div  \\\n",
       "gennorm               0.000377  1487.466677  1507.650984     inf   \n",
       "genhyperbolic         0.000381  1503.767670  1537.408181     inf   \n",
       "dgamma                0.000418  1468.347021  1488.531328     inf   \n",
       "dweibull              0.000499  1431.557094  1451.741401     inf   \n",
       "\n",
       "               ks_statistic      ks_pvalue  \n",
       "gennorm            0.160006  1.489181e-138  \n",
       "genhyperbolic      0.341021   0.000000e+00  \n",
       "dgamma             0.171618  1.827028e-159  \n",
       "dweibull           0.137842  8.640287e-103  "
      ],
      "text/html": [
       "<div>\n",
       "<style scoped>\n",
       "    .dataframe tbody tr th:only-of-type {\n",
       "        vertical-align: middle;\n",
       "    }\n",
       "\n",
       "    .dataframe tbody tr th {\n",
       "        vertical-align: top;\n",
       "    }\n",
       "\n",
       "    .dataframe thead th {\n",
       "        text-align: right;\n",
       "    }\n",
       "</style>\n",
       "<table border=\"1\" class=\"dataframe\">\n",
       "  <thead>\n",
       "    <tr style=\"text-align: right;\">\n",
       "      <th></th>\n",
       "      <th>sumsquare_error</th>\n",
       "      <th>aic</th>\n",
       "      <th>bic</th>\n",
       "      <th>kl_div</th>\n",
       "      <th>ks_statistic</th>\n",
       "      <th>ks_pvalue</th>\n",
       "    </tr>\n",
       "  </thead>\n",
       "  <tbody>\n",
       "    <tr>\n",
       "      <th>gennorm</th>\n",
       "      <td>0.000377</td>\n",
       "      <td>1487.466677</td>\n",
       "      <td>1507.650984</td>\n",
       "      <td>inf</td>\n",
       "      <td>0.160006</td>\n",
       "      <td>1.489181e-138</td>\n",
       "    </tr>\n",
       "    <tr>\n",
       "      <th>genhyperbolic</th>\n",
       "      <td>0.000381</td>\n",
       "      <td>1503.767670</td>\n",
       "      <td>1537.408181</td>\n",
       "      <td>inf</td>\n",
       "      <td>0.341021</td>\n",
       "      <td>0.000000e+00</td>\n",
       "    </tr>\n",
       "    <tr>\n",
       "      <th>dgamma</th>\n",
       "      <td>0.000418</td>\n",
       "      <td>1468.347021</td>\n",
       "      <td>1488.531328</td>\n",
       "      <td>inf</td>\n",
       "      <td>0.171618</td>\n",
       "      <td>1.827028e-159</td>\n",
       "    </tr>\n",
       "    <tr>\n",
       "      <th>dweibull</th>\n",
       "      <td>0.000499</td>\n",
       "      <td>1431.557094</td>\n",
       "      <td>1451.741401</td>\n",
       "      <td>inf</td>\n",
       "      <td>0.137842</td>\n",
       "      <td>8.640287e-103</td>\n",
       "    </tr>\n",
       "  </tbody>\n",
       "</table>\n",
       "</div>"
      ]
     },
     "execution_count": 41,
     "metadata": {},
     "output_type": "execute_result"
    },
    {
     "data": {
      "text/plain": [
       "<Figure size 640x480 with 1 Axes>"
      ],
      "image/png": "[encoded data removed]"
     },
     "metadata": {
      "needs_background": "light"
     },
     "output_type": "display_data"
    }
   ],
   "execution_count": 41
  },
  {
   "metadata": {
    "ExecuteTime": {
     "end_time": "2024-09-30T05:12:09.073499Z",
     "start_time": "2024-09-30T05:12:09.057500Z"
    }
   },
   "cell_type": "code",
   "source": [
    "best_params_ta = f.get_best()\n",
    "print(best_params_ta)"
   ],
   "id": "b3f9f39b455da85b",
   "outputs": [
    {
     "name": "stdout",
     "output_type": "stream",
     "text": [
      "{'gennorm': {'beta': 0.3838866797095182, 'loc': 300.0, 'scale': 4.537800515996967}}\n"
     ]
    }
   ],
   "execution_count": 42
  },
  {
   "metadata": {
    "ExecuteTime": {
     "end_time": "2024-09-30T05:41:30.041747Z",
     "start_time": "2024-09-30T05:41:30.026459Z"
    }
   },
   "cell_type": "code",
   "source": [
    "gen = pd.DataFrame()\n",
    "ta = stats.gennorm.rvs(**best_params_ta.get('gennorm'), size=4_000)\n",
    "gen['ta'] = ta\n",
    "gen['ta'].describe()"
   ],
   "id": "97a13dd56d34eeab",
   "outputs": [
    {
     "data": {
      "text/plain": [
       "count    4000.000000\n",
       "mean      306.890078\n",
       "std       257.500022\n",
       "min     -1422.927672\n",
       "25%       263.592490\n",
       "50%       300.516082\n",
       "75%       340.010848\n",
       "max      7431.971315\n",
       "Name: ta, dtype: float64"
      ]
     },
     "execution_count": 63,
     "metadata": {},
     "output_type": "execute_result"
    }
   ],
   "execution_count": 63
  },
  {
   "metadata": {
    "ExecuteTime": {
     "end_time": "2024-09-30T04:46:17.990175Z",
     "start_time": "2024-09-30T04:46:17.990175Z"
    }
   },
   "cell_type": "code",
   "source": [
    "plt.title('Histogram of Service Time')\n",
    "plt.xlabel('Minutes')\n",
    "plt.xlim(0, 700)\n",
    "plt.ylim(0, 100)\n",
    "plt.hist(gen['ta'], bins=1_000)\n",
    "plt.show()"
   ],
   "id": "5dd867bdfd3ebf6a",
   "outputs": [],
   "execution_count": null
  }
 ],
 "metadata": {
  "kernelspec": {
   "display_name": "tp6",
   "language": "python",
   "name": "tp6"
  },
  "language_info": {
   "codemirror_mode": {
    "name": "ipython",
    "version": 2
   },
   "file_extension": ".py",
   "mimetype": "text/x-python",
   "name": "python",
   "nbconvert_exporter": "python",
   "pygments_lexer": "ipython2",
   "version": "2.7.6"
  }
 },
 "nbformat": 4,
 "nbformat_minor": 5
}
